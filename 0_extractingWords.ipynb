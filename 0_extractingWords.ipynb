{
 "cells": [
  {
   "cell_type": "code",
   "execution_count": null,
   "metadata": {},
   "outputs": [],
   "source": [
    "import fitz\n",
    "import json\n",
    "\n",
    "def readPDF(fileName):\n",
    "    pdfDocument = fitz.open(fileName)\n",
    "    textContent = \"\"\n",
    "    for currentPage in range(pdfDocument.page_count):\n",
    "        page = pdfDocument[currentPage]\n",
    "        textContent += page.get_text()\n",
    "\n",
    "    pdfDocument.close()\n",
    "    return textContent\n",
    "\n",
    "def getWordNumber(number):\n",
    "    temp = str(number)\n",
    "    return len(temp)+1, temp + \".\"\n",
    "\n",
    "fileName = \"wordList.pdf\"\n",
    "content = readPDF(fileName)\n",
    "\n",
    "content = content.split(\"\\n\")\n",
    "index = 1\n",
    "\n",
    "newWordStructure = {\"meaning\": \"\", \"wordIndex\": 0, \"wordUsed\": False, \"clipsFound\": 0, \"clipData\": {}, \"searched\": False, \"downloaded\": False, \"subtitleAdded\": False}\n",
    "greWords = {}\n",
    "wordIndex = 1\n",
    "currentIndex = 0\n",
    "listLength = len(content)\n",
    "currentWord, currentMeaning = \"\", \"\"\n",
    "for i in range(len(content)):\n",
    "    indexLength, indexString = getWordNumber(wordIndex)\n",
    "    if content[i][:indexLength] == indexString:\n",
    "        try:greWords[currentWord][\"meaning\"] = currentMeaning.strip()\n",
    "        except:pass\n",
    "        currentWord = content[i][indexLength:].strip()\n",
    "        greWords[currentWord] = {\"meaning\": \"\", \"wordIndex\": wordIndex, \"wordUsed\": False, \"clipsFound\": 0, \"clipData\": {}, \"searched\": False, \"downloaded\": False, \"subtitleAdded\": False}\n",
    "        wordIndex += 1\n",
    "        currentMeaning = \"\"\n",
    "    else:\n",
    "        currentMeaning += content[i].strip() + \" \"\n",
    "\n",
    "print(greWords)\n",
    "print(greWords[\"abase\"])\n",
    "\n",
    "fileName = \"greWords.json\"\n",
    "with open(fileName, \"w\") as json_file:\n",
    "    json.dump(greWords, json_file, indent=2)\n",
    "\n",
    "print(f\"Dictionary saved as JSON in '{fileName}'.\")\n"
   ]
  }
 ],
 "metadata": {
  "language_info": {
   "name": "python"
  }
 },
 "nbformat": 4,
 "nbformat_minor": 2
}
