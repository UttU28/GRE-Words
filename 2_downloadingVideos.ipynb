{
 "cells": [
  {
   "cell_type": "code",
   "execution_count": null,
   "metadata": {},
   "outputs": [],
   "source": [
    "import os\n",
    "import json\n",
    "import requests\n",
    "\n",
    "file_path = \"greWords.json\"\n",
    "\n",
    "with open(file_path, \"r\") as file:\n",
    "    data = json.load(file)\n",
    "\n",
    "outputDirectory = \"downloadedVideos\"\n",
    "os.makedirs(outputDirectory, exist_ok=True)\n",
    "\n",
    "# Iterate through each word in the data\n",
    "for currentWord, wordData in data.items():\n",
    "    # Iterate through each clipData for the word\n",
    "    for clip_index, clip_info in wordData[\"clipData\"].items():\n",
    "        video_url = clip_info[\"videoURL\"]\n",
    "        video_info = clip_info[\"videoInfo\"]\n",
    "\n",
    "        os.makedirs(outputDirectory+\"\\\\\"+currentWord, exist_ok=True)\n",
    "\n",
    "        # Generate a file name based on word, clip index, and video info\n",
    "        file_name = f\"{currentWord}_clip{clip_index}_{video_info.replace(' ', '_')}.mp4\"\n",
    "        file_path = os.path.join(outputDirectory, currentWord +\"\\\\\"+ clip_index + \".mp4\")\n",
    "\n",
    "        # Download the video\n",
    "        response = requests.get(video_url, stream=True)\n",
    "        with open(file_path, \"wb\") as video_file:\n",
    "            for chunk in response.iter_content(chunk_size=1024 * 1024):\n",
    "                if chunk:\n",
    "                    video_file.write(chunk)\n",
    "\n",
    "        print(f\"Downloaded video: {file_name}\")\n"
   ]
  }
 ],
 "metadata": {
  "language_info": {
   "name": "python"
  }
 },
 "nbformat": 4,
 "nbformat_minor": 2
}
